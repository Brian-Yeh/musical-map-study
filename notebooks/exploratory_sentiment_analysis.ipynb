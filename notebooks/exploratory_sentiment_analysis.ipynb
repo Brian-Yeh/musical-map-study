{
 "cells": [
  {
   "cell_type": "code",
   "execution_count": 1,
   "metadata": {},
   "outputs": [],
   "source": [
    "import pandas as pd\n",
    "import time\n",
    "import re \n",
    "import ast\n",
    "import seaborn as sns\n",
    "\n",
    "from tqdm._tqdm_notebook import tqdm_notebook\n",
    "import numpy as np\n",
    "tqdm_notebook.pandas()\n",
    "\n",
    "from textblob import TextBlob\n",
    "from vaderSentiment.vaderSentiment import SentimentIntensityAnalyzer\n",
    "analyser = SentimentIntensityAnalyzer()\n",
    "\n",
    "import spacy\n",
    "nlp = spacy.load('en')"
   ]
  },
  {
   "cell_type": "code",
   "execution_count": 2,
   "metadata": {},
   "outputs": [],
   "source": [
    "def vader_sentiment(lyric):\n",
    "    score = analyser.polarity_scores(lyric)\n",
    "    return score['compound']\n",
    "\n",
    "\n",
    "def textblob_sentiment(lyric):\n",
    "    tb = TextBlob(lyric)\n",
    "    return tb.sentiment.polarity\n",
    "\n",
    "\n",
    "def unique_words(lyric):\n",
    "    doc = nlp.tokenizer(lyric.lower())\n",
    "    return list(set(doc))\n",
    "    "
   ]
  },
  {
   "cell_type": "code",
   "execution_count": 3,
   "metadata": {},
   "outputs": [
    {
     "data": {
      "text/html": [
       "<div>\n",
       "<style scoped>\n",
       "    .dataframe tbody tr th:only-of-type {\n",
       "        vertical-align: middle;\n",
       "    }\n",
       "\n",
       "    .dataframe tbody tr th {\n",
       "        vertical-align: top;\n",
       "    }\n",
       "\n",
       "    .dataframe thead th {\n",
       "        text-align: right;\n",
       "    }\n",
       "</style>\n",
       "<table border=\"1\" class=\"dataframe\">\n",
       "  <thead>\n",
       "    <tr style=\"text-align: right;\">\n",
       "      <th></th>\n",
       "      <th>song_id</th>\n",
       "      <th>lyrics</th>\n",
       "    </tr>\n",
       "  </thead>\n",
       "  <tbody>\n",
       "    <tr>\n",
       "      <th>37</th>\n",
       "      <td>6cbqh8woSu03Vj8s1PCK9C</td>\n",
       "      <td>Uh Here we go, that’s right Uh huh uh huh Uh h...</td>\n",
       "    </tr>\n",
       "    <tr>\n",
       "      <th>85</th>\n",
       "      <td>3xIHePHJbOEtnzlwAOoCtz</td>\n",
       "      <td>He be rollin' in his jeep Cruisin' down on Ful...</td>\n",
       "    </tr>\n",
       "    <tr>\n",
       "      <th>123</th>\n",
       "      <td>3zb1zBmkrPF6VW8RhlSYA1</td>\n",
       "      <td>So pay attention, babe Pay attention Our Fathe...</td>\n",
       "    </tr>\n",
       "    <tr>\n",
       "      <th>124</th>\n",
       "      <td>6A8KuRrV72ZP4MneZRCsSm</td>\n",
       "      <td>I don't mean to be rude I don't mean to be ou...</td>\n",
       "    </tr>\n",
       "    <tr>\n",
       "      <th>125</th>\n",
       "      <td>7hphy8rtxpYshs3UzDZTzN</td>\n",
       "      <td>I run after you like a fool would do But mama ...</td>\n",
       "    </tr>\n",
       "  </tbody>\n",
       "</table>\n",
       "</div>"
      ],
      "text/plain": [
       "                    song_id                                             lyrics\n",
       "37   6cbqh8woSu03Vj8s1PCK9C  Uh Here we go, that’s right Uh huh uh huh Uh h...\n",
       "85   3xIHePHJbOEtnzlwAOoCtz  He be rollin' in his jeep Cruisin' down on Ful...\n",
       "123  3zb1zBmkrPF6VW8RhlSYA1  So pay attention, babe Pay attention Our Fathe...\n",
       "124  6A8KuRrV72ZP4MneZRCsSm   I don't mean to be rude I don't mean to be ou...\n",
       "125  7hphy8rtxpYshs3UzDZTzN  I run after you like a fool would do But mama ..."
      ]
     },
     "execution_count": 3,
     "metadata": {},
     "output_type": "execute_result"
    }
   ],
   "source": [
    "song_info = pd.read_csv('../data/song_info.txt')\n",
    "song_info = song_info[song_info['lang'] == 'en']\n",
    "song_info = song_info[['song_id', 'lyrics']]\n",
    "\n",
    "reg = \"[\\(\\[].*?[\\)\\]]\"\n",
    "song_info['lyrics'] = song_info['lyrics'].str.replace(reg, '')\n",
    "song_info['lyrics'] = song_info['lyrics'].str.replace(\"\\\\r\\\\n\", ' ')\n",
    "song_info.head()"
   ]
  },
  {
   "cell_type": "markdown",
   "metadata": {},
   "source": [
    "## Get TextBlob Sentiment Scores"
   ]
  },
  {
   "cell_type": "code",
   "execution_count": 10,
   "metadata": {},
   "outputs": [
    {
     "data": {
      "application/vnd.jupyter.widget-view+json": {
       "model_id": "7c6a771d51954be3bf89078c5679bb05",
       "version_major": 2,
       "version_minor": 0
      },
      "text/plain": [
       "HBox(children=(IntProgress(value=0, max=10331), HTML(value='')))"
      ]
     },
     "metadata": {},
     "output_type": "display_data"
    },
    {
     "data": {
      "text/html": [
       "<div>\n",
       "<style scoped>\n",
       "    .dataframe tbody tr th:only-of-type {\n",
       "        vertical-align: middle;\n",
       "    }\n",
       "\n",
       "    .dataframe tbody tr th {\n",
       "        vertical-align: top;\n",
       "    }\n",
       "\n",
       "    .dataframe thead th {\n",
       "        text-align: right;\n",
       "    }\n",
       "</style>\n",
       "<table border=\"1\" class=\"dataframe\">\n",
       "  <thead>\n",
       "    <tr style=\"text-align: right;\">\n",
       "      <th></th>\n",
       "      <th>song_id</th>\n",
       "      <th>lyrics</th>\n",
       "      <th>textblob_score</th>\n",
       "    </tr>\n",
       "  </thead>\n",
       "  <tbody>\n",
       "    <tr>\n",
       "      <th>37</th>\n",
       "      <td>6cbqh8woSu03Vj8s1PCK9C</td>\n",
       "      <td>Uh Here we go, that’s right Uh huh uh huh Uh h...</td>\n",
       "      <td>0.218276</td>\n",
       "    </tr>\n",
       "    <tr>\n",
       "      <th>85</th>\n",
       "      <td>3xIHePHJbOEtnzlwAOoCtz</td>\n",
       "      <td>He be rollin' in his jeep Cruisin' down on Ful...</td>\n",
       "      <td>-0.116919</td>\n",
       "    </tr>\n",
       "    <tr>\n",
       "      <th>123</th>\n",
       "      <td>3zb1zBmkrPF6VW8RhlSYA1</td>\n",
       "      <td>So pay attention, babe Pay attention Our Fathe...</td>\n",
       "      <td>-0.045307</td>\n",
       "    </tr>\n",
       "    <tr>\n",
       "      <th>124</th>\n",
       "      <td>6A8KuRrV72ZP4MneZRCsSm</td>\n",
       "      <td>I don't mean to be rude I don't mean to be ou...</td>\n",
       "      <td>-0.137222</td>\n",
       "    </tr>\n",
       "    <tr>\n",
       "      <th>125</th>\n",
       "      <td>7hphy8rtxpYshs3UzDZTzN</td>\n",
       "      <td>I run after you like a fool would do But mama ...</td>\n",
       "      <td>0.008056</td>\n",
       "    </tr>\n",
       "  </tbody>\n",
       "</table>\n",
       "</div>"
      ],
      "text/plain": [
       "                    song_id  \\\n",
       "37   6cbqh8woSu03Vj8s1PCK9C   \n",
       "85   3xIHePHJbOEtnzlwAOoCtz   \n",
       "123  3zb1zBmkrPF6VW8RhlSYA1   \n",
       "124  6A8KuRrV72ZP4MneZRCsSm   \n",
       "125  7hphy8rtxpYshs3UzDZTzN   \n",
       "\n",
       "                                                lyrics  textblob_score  \n",
       "37   Uh Here we go, that’s right Uh huh uh huh Uh h...        0.218276  \n",
       "85   He be rollin' in his jeep Cruisin' down on Ful...       -0.116919  \n",
       "123  So pay attention, babe Pay attention Our Fathe...       -0.045307  \n",
       "124   I don't mean to be rude I don't mean to be ou...       -0.137222  \n",
       "125  I run after you like a fool would do But mama ...        0.008056  "
      ]
     },
     "execution_count": 10,
     "metadata": {},
     "output_type": "execute_result"
    }
   ],
   "source": [
    "song_info['textblob_score'] = song_info['lyrics'].progress_apply(lambda x: textblob_sentiment(x))\n",
    "song_info.head()"
   ]
  },
  {
   "cell_type": "markdown",
   "metadata": {},
   "source": [
    "## Get VADER Sentiment Scores"
   ]
  },
  {
   "cell_type": "code",
   "execution_count": 11,
   "metadata": {},
   "outputs": [
    {
     "data": {
      "application/vnd.jupyter.widget-view+json": {
       "model_id": "ba1a69d1b3a74631b13e7e3f4f9f83b9",
       "version_major": 2,
       "version_minor": 0
      },
      "text/plain": [
       "HBox(children=(IntProgress(value=0, max=10331), HTML(value='')))"
      ]
     },
     "metadata": {},
     "output_type": "display_data"
    },
    {
     "data": {
      "text/html": [
       "<div>\n",
       "<style scoped>\n",
       "    .dataframe tbody tr th:only-of-type {\n",
       "        vertical-align: middle;\n",
       "    }\n",
       "\n",
       "    .dataframe tbody tr th {\n",
       "        vertical-align: top;\n",
       "    }\n",
       "\n",
       "    .dataframe thead th {\n",
       "        text-align: right;\n",
       "    }\n",
       "</style>\n",
       "<table border=\"1\" class=\"dataframe\">\n",
       "  <thead>\n",
       "    <tr style=\"text-align: right;\">\n",
       "      <th></th>\n",
       "      <th>song_id</th>\n",
       "      <th>lyrics</th>\n",
       "      <th>textblob_score</th>\n",
       "      <th>vader_score</th>\n",
       "    </tr>\n",
       "  </thead>\n",
       "  <tbody>\n",
       "    <tr>\n",
       "      <th>37</th>\n",
       "      <td>6cbqh8woSu03Vj8s1PCK9C</td>\n",
       "      <td>Uh Here we go, that’s right Uh huh uh huh Uh h...</td>\n",
       "      <td>0.218276</td>\n",
       "      <td>0.9095</td>\n",
       "    </tr>\n",
       "    <tr>\n",
       "      <th>85</th>\n",
       "      <td>3xIHePHJbOEtnzlwAOoCtz</td>\n",
       "      <td>He be rollin' in his jeep Cruisin' down on Ful...</td>\n",
       "      <td>-0.116919</td>\n",
       "      <td>0.8571</td>\n",
       "    </tr>\n",
       "    <tr>\n",
       "      <th>123</th>\n",
       "      <td>3zb1zBmkrPF6VW8RhlSYA1</td>\n",
       "      <td>So pay attention, babe Pay attention Our Fathe...</td>\n",
       "      <td>-0.045307</td>\n",
       "      <td>-0.9959</td>\n",
       "    </tr>\n",
       "    <tr>\n",
       "      <th>124</th>\n",
       "      <td>6A8KuRrV72ZP4MneZRCsSm</td>\n",
       "      <td>I don't mean to be rude I don't mean to be ou...</td>\n",
       "      <td>-0.137222</td>\n",
       "      <td>-0.9938</td>\n",
       "    </tr>\n",
       "    <tr>\n",
       "      <th>125</th>\n",
       "      <td>7hphy8rtxpYshs3UzDZTzN</td>\n",
       "      <td>I run after you like a fool would do But mama ...</td>\n",
       "      <td>0.008056</td>\n",
       "      <td>0.9954</td>\n",
       "    </tr>\n",
       "  </tbody>\n",
       "</table>\n",
       "</div>"
      ],
      "text/plain": [
       "                    song_id  \\\n",
       "37   6cbqh8woSu03Vj8s1PCK9C   \n",
       "85   3xIHePHJbOEtnzlwAOoCtz   \n",
       "123  3zb1zBmkrPF6VW8RhlSYA1   \n",
       "124  6A8KuRrV72ZP4MneZRCsSm   \n",
       "125  7hphy8rtxpYshs3UzDZTzN   \n",
       "\n",
       "                                                lyrics  textblob_score  \\\n",
       "37   Uh Here we go, that’s right Uh huh uh huh Uh h...        0.218276   \n",
       "85   He be rollin' in his jeep Cruisin' down on Ful...       -0.116919   \n",
       "123  So pay attention, babe Pay attention Our Fathe...       -0.045307   \n",
       "124   I don't mean to be rude I don't mean to be ou...       -0.137222   \n",
       "125  I run after you like a fool would do But mama ...        0.008056   \n",
       "\n",
       "     vader_score  \n",
       "37        0.9095  \n",
       "85        0.8571  \n",
       "123      -0.9959  \n",
       "124      -0.9938  \n",
       "125       0.9954  "
      ]
     },
     "execution_count": 11,
     "metadata": {},
     "output_type": "execute_result"
    }
   ],
   "source": [
    "song_info['vader_score'] = song_info['lyrics'].progress_apply(lambda x: vader_sentiment(x))\n",
    "song_info.head()"
   ]
  },
  {
   "cell_type": "code",
   "execution_count": 197,
   "metadata": {},
   "outputs": [
    {
     "data": {
      "text/plain": [
       "<matplotlib.axes._subplots.AxesSubplot at 0x1bffa1ba8>"
      ]
     },
     "execution_count": 197,
     "metadata": {},
     "output_type": "execute_result"
    },
    {
     "data": {
      "image/png": "[encoded data removed]",
      "text/plain": [
       "<Figure size 432x288 with 1 Axes>"
      ]
     },
     "metadata": {
      "needs_background": "light"
     },
     "output_type": "display_data"
    }
   ],
   "source": [
    "sns.distplot(a=song_info['vader_score'])"
   ]
  },
  {
   "cell_type": "code",
   "execution_count": 196,
   "metadata": {},
   "outputs": [
    {
     "data": {
      "text/plain": [
       "<matplotlib.axes._subplots.AxesSubplot at 0x1bff13198>"
      ]
     },
     "execution_count": 196,
     "metadata": {},
     "output_type": "execute_result"
    },
    {
     "data": {
      "image/png": "[encoded data removed]",
      "text/plain": [
       "<Figure size 432x288 with 1 Axes>"
      ]
     },
     "metadata": {
      "needs_background": "light"
     },
     "output_type": "display_data"
    }
   ],
   "source": [
    "sns.distplot(a=song_info['textblob_score'], axlabel=None)"
   ]
  },
  {
   "cell_type": "markdown",
   "metadata": {},
   "source": [
    "## Try tokenizing into unique words"
   ]
  },
  {
   "cell_type": "code",
   "execution_count": 44,
   "metadata": {},
   "outputs": [
    {
     "data": {
      "application/vnd.jupyter.widget-view+json": {
       "model_id": "cd208e4ce0f8420c972a9f095a8a2fb6",
       "version_major": 2,
       "version_minor": 0
      },
      "text/plain": [
       "HBox(children=(IntProgress(value=0, max=10331), HTML(value='')))"
      ]
     },
     "metadata": {},
     "output_type": "display_data"
    },
    {
     "data": {
      "text/html": [
       "<div>\n",
       "<style scoped>\n",
       "    .dataframe tbody tr th:only-of-type {\n",
       "        vertical-align: middle;\n",
       "    }\n",
       "\n",
       "    .dataframe tbody tr th {\n",
       "        vertical-align: top;\n",
       "    }\n",
       "\n",
       "    .dataframe thead th {\n",
       "        text-align: right;\n",
       "    }\n",
       "</style>\n",
       "<table border=\"1\" class=\"dataframe\">\n",
       "  <thead>\n",
       "    <tr style=\"text-align: right;\">\n",
       "      <th></th>\n",
       "      <th>song_id</th>\n",
       "      <th>lyrics</th>\n",
       "      <th>textblob_score</th>\n",
       "      <th>vader_score</th>\n",
       "      <th>lyrics_unique</th>\n",
       "    </tr>\n",
       "  </thead>\n",
       "  <tbody>\n",
       "    <tr>\n",
       "      <th>37</th>\n",
       "      <td>6cbqh8woSu03Vj8s1PCK9C</td>\n",
       "      <td>Uh Here we go, that’s right Uh huh uh huh Uh h...</td>\n",
       "      <td>0.218276</td>\n",
       "      <td>0.9095</td>\n",
       "      <td>[proud, aqua, ', ..., superstar, loud, reach, ...</td>\n",
       "    </tr>\n",
       "    <tr>\n",
       "      <th>85</th>\n",
       "      <td>3xIHePHJbOEtnzlwAOoCtz</td>\n",
       "      <td>He be rollin' in his jeep Cruisin' down on Ful...</td>\n",
       "      <td>-0.116919</td>\n",
       "      <td>0.8571</td>\n",
       "      <td>[wishing, fulton, around, street, slow, but, o...</td>\n",
       "    </tr>\n",
       "    <tr>\n",
       "      <th>123</th>\n",
       "      <td>3zb1zBmkrPF6VW8RhlSYA1</td>\n",
       "      <td>So pay attention, babe Pay attention Our Fathe...</td>\n",
       "      <td>-0.045307</td>\n",
       "      <td>-0.9959</td>\n",
       "      <td>[?, need, you, !, just, little, her, ', ol', c...</td>\n",
       "    </tr>\n",
       "    <tr>\n",
       "      <th>124</th>\n",
       "      <td>6A8KuRrV72ZP4MneZRCsSm</td>\n",
       "      <td>I don't mean to be rude I don't mean to be ou...</td>\n",
       "      <td>-0.137222</td>\n",
       "      <td>-0.9938</td>\n",
       "      <td>[a, this, every, who, minds, my, cup, n't, lin...</td>\n",
       "    </tr>\n",
       "    <tr>\n",
       "      <th>125</th>\n",
       "      <td>7hphy8rtxpYshs3UzDZTzN</td>\n",
       "      <td>I run after you like a fool would do But mama ...</td>\n",
       "      <td>0.008056</td>\n",
       "      <td>0.9954</td>\n",
       "      <td>[\", lost, ,, about, got, ,, baby, you, n't, i,...</td>\n",
       "    </tr>\n",
       "  </tbody>\n",
       "</table>\n",
       "</div>"
      ],
      "text/plain": [
       "                    song_id  \\\n",
       "37   6cbqh8woSu03Vj8s1PCK9C   \n",
       "85   3xIHePHJbOEtnzlwAOoCtz   \n",
       "123  3zb1zBmkrPF6VW8RhlSYA1   \n",
       "124  6A8KuRrV72ZP4MneZRCsSm   \n",
       "125  7hphy8rtxpYshs3UzDZTzN   \n",
       "\n",
       "                                                lyrics  textblob_score  \\\n",
       "37   Uh Here we go, that’s right Uh huh uh huh Uh h...        0.218276   \n",
       "85   He be rollin' in his jeep Cruisin' down on Ful...       -0.116919   \n",
       "123  So pay attention, babe Pay attention Our Fathe...       -0.045307   \n",
       "124   I don't mean to be rude I don't mean to be ou...       -0.137222   \n",
       "125  I run after you like a fool would do But mama ...        0.008056   \n",
       "\n",
       "     vader_score                                      lyrics_unique  \n",
       "37        0.9095  [proud, aqua, ', ..., superstar, loud, reach, ...  \n",
       "85        0.8571  [wishing, fulton, around, street, slow, but, o...  \n",
       "123      -0.9959  [?, need, you, !, just, little, her, ', ol', c...  \n",
       "124      -0.9938  [a, this, every, who, minds, my, cup, n't, lin...  \n",
       "125       0.9954  [\", lost, ,, about, got, ,, baby, you, n't, i,...  "
      ]
     },
     "execution_count": 44,
     "metadata": {},
     "output_type": "execute_result"
    }
   ],
   "source": [
    "song_info['lyrics_unique'] = song_info['lyrics'].progress_apply(lambda x: unique_words(x))\n",
    "song_info.head()"
   ]
  },
  {
   "cell_type": "code",
   "execution_count": 45,
   "metadata": {},
   "outputs": [],
   "source": [
    "song_info.to_csv(path_or_buf='../data/song_info+unique.txt', encoding='utf-8', index=False)"
   ]
  },
  {
   "cell_type": "code",
   "execution_count": 60,
   "metadata": {},
   "outputs": [
    {
     "data": {
      "application/vnd.jupyter.widget-view+json": {
       "model_id": "dee0dfa25db9443aad56652e9173fe5d",
       "version_major": 2,
       "version_minor": 0
      },
      "text/plain": [
       "HBox(children=(IntProgress(value=0, max=10331), HTML(value='')))"
      ]
     },
     "metadata": {},
     "output_type": "display_data"
    },
    {
     "data": {
      "text/html": [
       "<div>\n",
       "<style scoped>\n",
       "    .dataframe tbody tr th:only-of-type {\n",
       "        vertical-align: middle;\n",
       "    }\n",
       "\n",
       "    .dataframe tbody tr th {\n",
       "        vertical-align: top;\n",
       "    }\n",
       "\n",
       "    .dataframe thead th {\n",
       "        text-align: right;\n",
       "    }\n",
       "</style>\n",
       "<table border=\"1\" class=\"dataframe\">\n",
       "  <thead>\n",
       "    <tr style=\"text-align: right;\">\n",
       "      <th></th>\n",
       "      <th>song_id</th>\n",
       "      <th>lyrics</th>\n",
       "      <th>textblob_score</th>\n",
       "      <th>vader_score</th>\n",
       "      <th>lyrics_unique</th>\n",
       "      <th>uni_vader_score</th>\n",
       "    </tr>\n",
       "  </thead>\n",
       "  <tbody>\n",
       "    <tr>\n",
       "      <th>37</th>\n",
       "      <td>6cbqh8woSu03Vj8s1PCK9C</td>\n",
       "      <td>Uh Here we go, that’s right Uh huh uh huh Uh h...</td>\n",
       "      <td>0.218276</td>\n",
       "      <td>0.9095</td>\n",
       "      <td>[proud, aqua, ', ..., superstar, loud, reach, ...</td>\n",
       "      <td>0.9016</td>\n",
       "    </tr>\n",
       "    <tr>\n",
       "      <th>85</th>\n",
       "      <td>3xIHePHJbOEtnzlwAOoCtz</td>\n",
       "      <td>He be rollin' in his jeep Cruisin' down on Ful...</td>\n",
       "      <td>-0.116919</td>\n",
       "      <td>0.8571</td>\n",
       "      <td>[wishing, fulton, around, street, slow, but, o...</td>\n",
       "      <td>0.9787</td>\n",
       "    </tr>\n",
       "    <tr>\n",
       "      <th>123</th>\n",
       "      <td>3zb1zBmkrPF6VW8RhlSYA1</td>\n",
       "      <td>So pay attention, babe Pay attention Our Fathe...</td>\n",
       "      <td>-0.045307</td>\n",
       "      <td>-0.9959</td>\n",
       "      <td>[?, need, you, !, just, little, her, ', ol', c...</td>\n",
       "      <td>-0.9713</td>\n",
       "    </tr>\n",
       "    <tr>\n",
       "      <th>124</th>\n",
       "      <td>6A8KuRrV72ZP4MneZRCsSm</td>\n",
       "      <td>I don't mean to be rude I don't mean to be ou...</td>\n",
       "      <td>-0.137222</td>\n",
       "      <td>-0.9938</td>\n",
       "      <td>[a, this, every, who, minds, my, cup, n't, lin...</td>\n",
       "      <td>-0.9827</td>\n",
       "    </tr>\n",
       "    <tr>\n",
       "      <th>125</th>\n",
       "      <td>7hphy8rtxpYshs3UzDZTzN</td>\n",
       "      <td>I run after you like a fool would do But mama ...</td>\n",
       "      <td>0.008056</td>\n",
       "      <td>0.9954</td>\n",
       "      <td>[\", lost, ,, about, got, ,, baby, you, n't, i,...</td>\n",
       "      <td>0.9287</td>\n",
       "    </tr>\n",
       "  </tbody>\n",
       "</table>\n",
       "</div>"
      ],
      "text/plain": [
       "                    song_id  \\\n",
       "37   6cbqh8woSu03Vj8s1PCK9C   \n",
       "85   3xIHePHJbOEtnzlwAOoCtz   \n",
       "123  3zb1zBmkrPF6VW8RhlSYA1   \n",
       "124  6A8KuRrV72ZP4MneZRCsSm   \n",
       "125  7hphy8rtxpYshs3UzDZTzN   \n",
       "\n",
       "                                                lyrics  textblob_score  \\\n",
       "37   Uh Here we go, that’s right Uh huh uh huh Uh h...        0.218276   \n",
       "85   He be rollin' in his jeep Cruisin' down on Ful...       -0.116919   \n",
       "123  So pay attention, babe Pay attention Our Fathe...       -0.045307   \n",
       "124   I don't mean to be rude I don't mean to be ou...       -0.137222   \n",
       "125  I run after you like a fool would do But mama ...        0.008056   \n",
       "\n",
       "     vader_score                                      lyrics_unique  \\\n",
       "37        0.9095  [proud, aqua, ', ..., superstar, loud, reach, ...   \n",
       "85        0.8571  [wishing, fulton, around, street, slow, but, o...   \n",
       "123      -0.9959  [?, need, you, !, just, little, her, ', ol', c...   \n",
       "124      -0.9938  [a, this, every, who, minds, my, cup, n't, lin...   \n",
       "125       0.9954  [\", lost, ,, about, got, ,, baby, you, n't, i,...   \n",
       "\n",
       "     uni_vader_score  \n",
       "37            0.9016  \n",
       "85            0.9787  \n",
       "123          -0.9713  \n",
       "124          -0.9827  \n",
       "125           0.9287  "
      ]
     },
     "execution_count": 60,
     "metadata": {},
     "output_type": "execute_result"
    }
   ],
   "source": [
    "song_info['uni_vader_score'] = song_info['lyrics_unique'].progress_apply(lambda x: vader_sentiment(str(x)))\n",
    "song_info.head()"
   ]
  },
  {
   "cell_type": "code",
   "execution_count": 180,
   "metadata": {},
   "outputs": [
    {
     "data": {
      "text/plain": [
       "<matplotlib.axes._subplots.AxesSubplot at 0x1bc7cacf8>"
      ]
     },
     "execution_count": 180,
     "metadata": {},
     "output_type": "execute_result"
    },
    {
     "data": {
      "image/png": "[encoded data removed]",
      "text/plain": [
       "<Figure size 432x288 with 1 Axes>"
      ]
     },
     "metadata": {
      "needs_background": "light"
     },
     "output_type": "display_data"
    }
   ],
   "source": [
    "sns.scatterplot(x='vader_score', y='uni_vader_score', data=song_info[:5000])"
   ]
  },
  {
   "cell_type": "code",
   "execution_count": null,
   "metadata": {},
   "outputs": [],
   "source": [
    "song_info['uni_textblob_score'] = song_info['lyrics_unique'].progress_apply(lambda x: textblob_sentiment(str(x)))"
   ]
  },
  {
   "cell_type": "code",
   "execution_count": 69,
   "metadata": {},
   "outputs": [
    {
     "data": {
      "text/plain": [
       "<matplotlib.axes._subplots.AxesSubplot at 0x1b6d82748>"
      ]
     },
     "execution_count": 69,
     "metadata": {},
     "output_type": "execute_result"
    },
    {
     "data": {
      "image/png": "[encoded data removed]",
      "text/plain": [
       "<Figure size 432x288 with 1 Axes>"
      ]
     },
     "metadata": {
      "needs_background": "light"
     },
     "output_type": "display_data"
    }
   ],
   "source": [
    "sns.scatterplot(x='uni_textblob_score', y='textblob_score', data=song_info[:5000])"
   ]
  },
  {
   "cell_type": "code",
   "execution_count": 73,
   "metadata": {},
   "outputs": [],
   "source": [
    "song_info['vader_diff'] = np.absolute(song_info['vader_score'] - song_info['uni_vader_score'])\n",
    "song_info['textblob_diff'] = np.absolute(song_info['textblob_score'] - song_info['uni_textblob_score'])"
   ]
  },
  {
   "cell_type": "code",
   "execution_count": 74,
   "metadata": {},
   "outputs": [
    {
     "name": "stdout",
     "output_type": "stream",
     "text": [
      "0.016187174069906194 0.288667108701965\n"
     ]
    }
   ],
   "source": [
    "print(song_info['textblob_diff'].mean(), song_info['vader_diff'].mean())"
   ]
  },
  {
   "cell_type": "code",
   "execution_count": 76,
   "metadata": {},
   "outputs": [
    {
     "name": "stdout",
     "output_type": "stream",
     "text": [
      "0.8709837285838739 0.8660798954602652\n"
     ]
    }
   ],
   "source": [
    "print(np.absolute(song_info['vader_score']).mean(), np.absolute(song_info['uni_vader_score']).mean())"
   ]
  },
  {
   "cell_type": "code",
   "execution_count": 77,
   "metadata": {},
   "outputs": [
    {
     "name": "stdout",
     "output_type": "stream",
     "text": [
      "0.14388290134143558 0.143871860510472\n"
     ]
    }
   ],
   "source": [
    "print(np.absolute(song_info['textblob_score']).mean(), np.absolute(song_info['uni_textblob_score']).mean())"
   ]
  },
  {
   "cell_type": "code",
   "execution_count": 183,
   "metadata": {},
   "outputs": [],
   "source": [
    "song_info.drop(columns=['uni_vader_score', 'lyrics_unique', 'uni_textblob_score', 'vader_diff', 'textblob_diff'], inplace=True)"
   ]
  },
  {
   "cell_type": "markdown",
   "metadata": {},
   "source": [
    "## Compare Musical Valence against Sentiment Scores for Lyrics"
   ]
  },
  {
   "cell_type": "code",
   "execution_count": 182,
   "metadata": {},
   "outputs": [],
   "source": [
    "song_info[['song_id', 'textblob_score', 'vader_score']].to_csv('../data/sentiment_scores.txt', index=False)"
   ]
  },
  {
   "cell_type": "code",
   "execution_count": 187,
   "metadata": {},
   "outputs": [
    {
     "data": {
      "text/html": [
       "<div>\n",
       "<style scoped>\n",
       "    .dataframe tbody tr th:only-of-type {\n",
       "        vertical-align: middle;\n",
       "    }\n",
       "\n",
       "    .dataframe tbody tr th {\n",
       "        vertical-align: top;\n",
       "    }\n",
       "\n",
       "    .dataframe thead th {\n",
       "        text-align: right;\n",
       "    }\n",
       "</style>\n",
       "<table border=\"1\" class=\"dataframe\">\n",
       "  <thead>\n",
       "    <tr style=\"text-align: right;\">\n",
       "      <th></th>\n",
       "      <th>song_id</th>\n",
       "      <th>lyrics</th>\n",
       "      <th>textblob_score</th>\n",
       "      <th>vader_score</th>\n",
       "      <th>audio_features</th>\n",
       "    </tr>\n",
       "  </thead>\n",
       "  <tbody>\n",
       "    <tr>\n",
       "      <th>0</th>\n",
       "      <td>6cbqh8woSu03Vj8s1PCK9C</td>\n",
       "      <td>Uh Here we go, that’s right Uh huh uh huh Uh h...</td>\n",
       "      <td>0.218276</td>\n",
       "      <td>0.9095</td>\n",
       "      <td>{'danceability': 0.895, 'energy': 0.752, 'key'...</td>\n",
       "    </tr>\n",
       "    <tr>\n",
       "      <th>1</th>\n",
       "      <td>3xIHePHJbOEtnzlwAOoCtz</td>\n",
       "      <td>He be rollin' in his jeep Cruisin' down on Ful...</td>\n",
       "      <td>-0.116919</td>\n",
       "      <td>0.8571</td>\n",
       "      <td>{'danceability': 0.736, 'energy': 0.51, 'key':...</td>\n",
       "    </tr>\n",
       "    <tr>\n",
       "      <th>2</th>\n",
       "      <td>3zb1zBmkrPF6VW8RhlSYA1</td>\n",
       "      <td>So pay attention, babe Pay attention Our Fathe...</td>\n",
       "      <td>-0.045307</td>\n",
       "      <td>-0.9959</td>\n",
       "      <td>{'danceability': 0.839, 'energy': 0.706, 'key'...</td>\n",
       "    </tr>\n",
       "    <tr>\n",
       "      <th>3</th>\n",
       "      <td>6A8KuRrV72ZP4MneZRCsSm</td>\n",
       "      <td>I don't mean to be rude I don't mean to be ou...</td>\n",
       "      <td>-0.137222</td>\n",
       "      <td>-0.9938</td>\n",
       "      <td>{'danceability': 0.585, 'energy': 0.65, 'key':...</td>\n",
       "    </tr>\n",
       "    <tr>\n",
       "      <th>4</th>\n",
       "      <td>7hphy8rtxpYshs3UzDZTzN</td>\n",
       "      <td>I run after you like a fool would do But mama ...</td>\n",
       "      <td>0.008056</td>\n",
       "      <td>0.9954</td>\n",
       "      <td>{'danceability': 0.787, 'energy': 0.708, 'key'...</td>\n",
       "    </tr>\n",
       "  </tbody>\n",
       "</table>\n",
       "</div>"
      ],
      "text/plain": [
       "                  song_id                                             lyrics  \\\n",
       "0  6cbqh8woSu03Vj8s1PCK9C  Uh Here we go, that’s right Uh huh uh huh Uh h...   \n",
       "1  3xIHePHJbOEtnzlwAOoCtz  He be rollin' in his jeep Cruisin' down on Ful...   \n",
       "2  3zb1zBmkrPF6VW8RhlSYA1  So pay attention, babe Pay attention Our Fathe...   \n",
       "3  6A8KuRrV72ZP4MneZRCsSm   I don't mean to be rude I don't mean to be ou...   \n",
       "4  7hphy8rtxpYshs3UzDZTzN  I run after you like a fool would do But mama ...   \n",
       "\n",
       "   textblob_score  vader_score  \\\n",
       "0        0.218276       0.9095   \n",
       "1       -0.116919       0.8571   \n",
       "2       -0.045307      -0.9959   \n",
       "3       -0.137222      -0.9938   \n",
       "4        0.008056       0.9954   \n",
       "\n",
       "                                      audio_features  \n",
       "0  {'danceability': 0.895, 'energy': 0.752, 'key'...  \n",
       "1  {'danceability': 0.736, 'energy': 0.51, 'key':...  \n",
       "2  {'danceability': 0.839, 'energy': 0.706, 'key'...  \n",
       "3  {'danceability': 0.585, 'energy': 0.65, 'key':...  \n",
       "4  {'danceability': 0.787, 'energy': 0.708, 'key'...  "
      ]
     },
     "execution_count": 187,
     "metadata": {},
     "output_type": "execute_result"
    }
   ],
   "source": [
    "audio_features = pd.read_csv('../data/song_info.txt')\n",
    "audio_features = audio_features[['song_id', 'audio_features']]\n",
    "song_info = song_info.merge(right=audio_features, on='song_id', how='inner')\n",
    "song_info.head()"
   ]
  },
  {
   "cell_type": "code",
   "execution_count": 189,
   "metadata": {},
   "outputs": [
    {
     "data": {
      "text/html": [
       "<div>\n",
       "<style scoped>\n",
       "    .dataframe tbody tr th:only-of-type {\n",
       "        vertical-align: middle;\n",
       "    }\n",
       "\n",
       "    .dataframe tbody tr th {\n",
       "        vertical-align: top;\n",
       "    }\n",
       "\n",
       "    .dataframe thead th {\n",
       "        text-align: right;\n",
       "    }\n",
       "</style>\n",
       "<table border=\"1\" class=\"dataframe\">\n",
       "  <thead>\n",
       "    <tr style=\"text-align: right;\">\n",
       "      <th></th>\n",
       "      <th>song_id</th>\n",
       "      <th>lyrics</th>\n",
       "      <th>textblob_score</th>\n",
       "      <th>vader_score</th>\n",
       "      <th>audio_features</th>\n",
       "      <th>musical_valence</th>\n",
       "    </tr>\n",
       "  </thead>\n",
       "  <tbody>\n",
       "    <tr>\n",
       "      <th>0</th>\n",
       "      <td>6cbqh8woSu03Vj8s1PCK9C</td>\n",
       "      <td>Uh Here we go, that’s right Uh huh uh huh Uh h...</td>\n",
       "      <td>0.218276</td>\n",
       "      <td>0.9095</td>\n",
       "      <td>{'danceability': 0.895, 'energy': 0.752, 'key'...</td>\n",
       "      <td>0.773</td>\n",
       "    </tr>\n",
       "    <tr>\n",
       "      <th>1</th>\n",
       "      <td>3xIHePHJbOEtnzlwAOoCtz</td>\n",
       "      <td>He be rollin' in his jeep Cruisin' down on Ful...</td>\n",
       "      <td>-0.116919</td>\n",
       "      <td>0.8571</td>\n",
       "      <td>{'danceability': 0.736, 'energy': 0.51, 'key':...</td>\n",
       "      <td>0.572</td>\n",
       "    </tr>\n",
       "    <tr>\n",
       "      <th>2</th>\n",
       "      <td>3zb1zBmkrPF6VW8RhlSYA1</td>\n",
       "      <td>So pay attention, babe Pay attention Our Fathe...</td>\n",
       "      <td>-0.045307</td>\n",
       "      <td>-0.9959</td>\n",
       "      <td>{'danceability': 0.839, 'energy': 0.706, 'key'...</td>\n",
       "      <td>0.714</td>\n",
       "    </tr>\n",
       "    <tr>\n",
       "      <th>3</th>\n",
       "      <td>6A8KuRrV72ZP4MneZRCsSm</td>\n",
       "      <td>I don't mean to be rude I don't mean to be ou...</td>\n",
       "      <td>-0.137222</td>\n",
       "      <td>-0.9938</td>\n",
       "      <td>{'danceability': 0.585, 'energy': 0.65, 'key':...</td>\n",
       "      <td>0.733</td>\n",
       "    </tr>\n",
       "    <tr>\n",
       "      <th>4</th>\n",
       "      <td>7hphy8rtxpYshs3UzDZTzN</td>\n",
       "      <td>I run after you like a fool would do But mama ...</td>\n",
       "      <td>0.008056</td>\n",
       "      <td>0.9954</td>\n",
       "      <td>{'danceability': 0.787, 'energy': 0.708, 'key'...</td>\n",
       "      <td>0.962</td>\n",
       "    </tr>\n",
       "  </tbody>\n",
       "</table>\n",
       "</div>"
      ],
      "text/plain": [
       "                  song_id                                             lyrics  \\\n",
       "0  6cbqh8woSu03Vj8s1PCK9C  Uh Here we go, that’s right Uh huh uh huh Uh h...   \n",
       "1  3xIHePHJbOEtnzlwAOoCtz  He be rollin' in his jeep Cruisin' down on Ful...   \n",
       "2  3zb1zBmkrPF6VW8RhlSYA1  So pay attention, babe Pay attention Our Fathe...   \n",
       "3  6A8KuRrV72ZP4MneZRCsSm   I don't mean to be rude I don't mean to be ou...   \n",
       "4  7hphy8rtxpYshs3UzDZTzN  I run after you like a fool would do But mama ...   \n",
       "\n",
       "   textblob_score  vader_score  \\\n",
       "0        0.218276       0.9095   \n",
       "1       -0.116919       0.8571   \n",
       "2       -0.045307      -0.9959   \n",
       "3       -0.137222      -0.9938   \n",
       "4        0.008056       0.9954   \n",
       "\n",
       "                                      audio_features  musical_valence  \n",
       "0  {'danceability': 0.895, 'energy': 0.752, 'key'...            0.773  \n",
       "1  {'danceability': 0.736, 'energy': 0.51, 'key':...            0.572  \n",
       "2  {'danceability': 0.839, 'energy': 0.706, 'key'...            0.714  \n",
       "3  {'danceability': 0.585, 'energy': 0.65, 'key':...            0.733  \n",
       "4  {'danceability': 0.787, 'energy': 0.708, 'key'...            0.962  "
      ]
     },
     "execution_count": 189,
     "metadata": {},
     "output_type": "execute_result"
    }
   ],
   "source": [
    "song_info['musical_valence'] = song_info.audio_features.map(lambda x: ast.literal_eval(x)['valence'])\n",
    "song_info.head()"
   ]
  },
  {
   "cell_type": "code",
   "execution_count": 202,
   "metadata": {},
   "outputs": [
    {
     "data": {
      "text/plain": [
       "<seaborn.axisgrid.JointGrid at 0x1c090a5c0>"
      ]
     },
     "execution_count": 202,
     "metadata": {},
     "output_type": "execute_result"
    },
    {
     "data": {
      "image/png": "[encoded data removed]",
      "text/plain": [
       "<Figure size 432x432 with 3 Axes>"
      ]
     },
     "metadata": {
      "needs_background": "light"
     },
     "output_type": "display_data"
    }
   ],
   "source": [
    "sns.jointplot(x='musical_valence', y='vader_score', data=song_info, kind='kde')"
   ]
  },
  {
   "cell_type": "code",
   "execution_count": 201,
   "metadata": {},
   "outputs": [
    {
     "data": {
      "text/plain": [
       "<seaborn.axisgrid.JointGrid at 0x1c06a2b38>"
      ]
     },
     "execution_count": 201,
     "metadata": {},
     "output_type": "execute_result"
    },
    {
     "data": {
      "image/png": "[encoded data removed]",
      "text/plain": [
       "<Figure size 432x432 with 3 Axes>"
      ]
     },
     "metadata": {
      "needs_background": "light"
     },
     "output_type": "display_data"
    }
   ],
   "source": [
    "sns.jointplot(x='musical_valence', y='textblob_score', data=song_info, kind='kde')"
   ]
  },
  {
   "cell_type": "markdown",
   "metadata": {},
   "source": [
    "## Conclusion\n",
    "Not much correlation between VADER and TextBlob. There also seems to be a skew towards positive and negative extremes, which I am guessing is due to the repetitive nature of lyrics. I tried tokenizing the lyrics into unique words before performing sentiment analysis, but realized that this wouldn't work well since the sequence of words matters when performing sentiment analysis."
   ]
  },
  {
   "cell_type": "code",
   "execution_count": null,
   "metadata": {},
   "outputs": [],
   "source": []
  }
 ],
 "metadata": {
  "kernelspec": {
   "display_name": "Python 3",
   "language": "python",
   "name": "python3"
  },
  "language_info": {
   "codemirror_mode": {
    "name": "ipython",
    "version": 3
   },
   "file_extension": ".py",
   "mimetype": "text/x-python",
   "name": "python",
   "nbconvert_exporter": "python",
   "pygments_lexer": "ipython3",
   "version": "3.7.2"
  }
 },
 "nbformat": 4,
 "nbformat_minor": 2
}
