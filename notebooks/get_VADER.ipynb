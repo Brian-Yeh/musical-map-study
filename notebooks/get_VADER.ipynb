{
 "cells": [
  {
   "cell_type": "code",
   "execution_count": null,
   "metadata": {},
   "outputs": [],
   "source": [
    "import pandas as pd\n",
    "import time\n",
    "import re \n",
    "import seaborn as sns\n",
    "import numpy as np\n",
    "\n",
    "from tqdm._tqdm_notebook import tqdm_notebook\n",
    "import numpy as np\n",
    "tqdm_notebook.pandas()\n",
    "\n",
    "from vaderSentiment.vaderSentiment import SentimentIntensityAnalyzer\n",
    "analyser = SentimentIntensityAnalyzer()"
   ]
  },
  {
   "cell_type": "code",
   "execution_count": null,
   "metadata": {},
   "outputs": [],
   "source": [
    "def vader_by_line(lyrics):\n",
    "    split = lyrics.splitlines()\n",
    "    lines = list(filter(None, split))\n",
    "    scores = []\n",
    "    for line in lines:\n",
    "        score = analyser.polarity_scores(line)\n",
    "        scores.append(score['compound'])\n",
    "    scores = list(filter(lambda x: x != 0.0, scores))\n",
    "    if len(scores) == 0:\n",
    "        return np.nan\n",
    "    return np.mean(scores)"
   ]
  },
  {
   "cell_type": "code",
   "execution_count": null,
   "metadata": {},
   "outputs": [],
   "source": [
    "song_info = pd.read_csv('../data/lyrics/song_info.txt')\n",
    "song_info = song_info[song_info['lang'] == 'en']\n",
    "song_info = song_info[['song_id', 'title', 'artist', 'lyrics', 'audio_features']]\n",
    "song_info.head()"
   ]
  },
  {
   "cell_type": "code",
   "execution_count": null,
   "metadata": {},
   "outputs": [],
   "source": [
    "reg = \"[\\(\\[].*?[\\)\\]]\"\n",
    "print('Original length:', len(song_info))\n",
    "song_info['lyrics'] = song_info['lyrics'].str.replace(reg, '')\n",
    "song_info = song_info[song_info['lyrics'] != '']\n",
    "print('Cleaned length:', len(song_info))"
   ]
  },
  {
   "cell_type": "code",
   "execution_count": null,
   "metadata": {},
   "outputs": [],
   "source": [
    "song_info.head()"
   ]
  },
  {
   "cell_type": "code",
   "execution_count": null,
   "metadata": {},
   "outputs": [],
   "source": [
    "song_info['vader_score'] = song_info['lyrics'].progress_apply(lambda x: vader_by_line(x))"
   ]
  },
  {
   "cell_type": "code",
   "execution_count": null,
   "metadata": {},
   "outputs": [],
   "source": [
    "song_info[song_info['vader_score'].isnull()]"
   ]
  },
  {
   "cell_type": "code",
   "execution_count": null,
   "metadata": {},
   "outputs": [],
   "source": [
    "vader_df = song_info[~song_info['vader_score'].isnull()].copy()\n",
    "vader_df[['song_id', 'vader_score']].to_csv(path_or_buf='../data/vader_scores.txt', index=False,)"
   ]
  },
  {
   "cell_type": "code",
   "execution_count": null,
   "metadata": {},
   "outputs": [],
   "source": [
    "vader_df['vader_score'].describe()"
   ]
  },
  {
   "cell_type": "code",
   "execution_count": null,
   "metadata": {},
   "outputs": [],
   "source": [
    "sns.distplot(vader_df['vader_score'])"
   ]
  },
  {
   "cell_type": "code",
   "execution_count": null,
   "metadata": {},
   "outputs": [],
   "source": []
  }
 ],
 "metadata": {
  "kernelspec": {
   "display_name": "Python 3",
   "language": "python",
   "name": "python3"
  },
  "language_info": {
   "codemirror_mode": {
    "name": "ipython",
    "version": 3
   },
   "file_extension": ".py",
   "mimetype": "text/x-python",
   "name": "python",
   "nbconvert_exporter": "python",
   "pygments_lexer": "ipython3",
   "version": "3.7.2"
  }
 },
 "nbformat": 4,
 "nbformat_minor": 2
}
