{
 "cells": [
  {
   "cell_type": "code",
   "execution_count": null,
   "metadata": {},
   "outputs": [],
   "source": [
    "import pandas as pd\n",
    "import numpy as np\n",
    "import time\n",
    "\n",
    "from googletrans import Translator\n",
    "translator = Translator()\n",
    "\n",
    "import goslate\n",
    "\n",
    "from tqdm._tqdm_notebook import tqdm_notebook\n",
    "import numpy as np\n",
    "tqdm_notebook.pandas()"
   ]
  },
  {
   "cell_type": "code",
   "execution_count": 33,
   "metadata": {},
   "outputs": [
    {
     "name": "stdout",
     "output_type": "stream",
     "text": [
      "44907\n"
     ]
    }
   ],
   "source": [
    "song_info = pd.read_csv('../data/lyrics/song_info.txt')\n",
    "print(len(song_info))"
   ]
  },
  {
   "cell_type": "code",
   "execution_count": 34,
   "metadata": {},
   "outputs": [
    {
     "name": "stdout",
     "output_type": "stream",
     "text": [
      "26670\n"
     ]
    },
    {
     "data": {
      "text/html": [
       "<div>\n",
       "<style scoped>\n",
       "    .dataframe tbody tr th:only-of-type {\n",
       "        vertical-align: middle;\n",
       "    }\n",
       "\n",
       "    .dataframe tbody tr th {\n",
       "        vertical-align: top;\n",
       "    }\n",
       "\n",
       "    .dataframe thead th {\n",
       "        text-align: right;\n",
       "    }\n",
       "</style>\n",
       "<table border=\"1\" class=\"dataframe\">\n",
       "  <thead>\n",
       "    <tr style=\"text-align: right;\">\n",
       "      <th></th>\n",
       "      <th>song_id</th>\n",
       "      <th>artist</th>\n",
       "      <th>title</th>\n",
       "      <th>lyrics</th>\n",
       "      <th>lang</th>\n",
       "      <th>audio_features</th>\n",
       "    </tr>\n",
       "  </thead>\n",
       "  <tbody>\n",
       "    <tr>\n",
       "      <th>0</th>\n",
       "      <td>2bVisOYbfWI29XxWEdTKSX</td>\n",
       "      <td>Grupo Polo Montañes</td>\n",
       "      <td>Un Sueño Y Nada Mas</td>\n",
       "      <td>A veces tengo ganas de volver a verte\\r\\nY sé ...</td>\n",
       "      <td>es</td>\n",
       "      <td>{'danceability': 0.607, 'energy': 0.542, 'key'...</td>\n",
       "    </tr>\n",
       "    <tr>\n",
       "      <th>1</th>\n",
       "      <td>0vQfzyjQFHQ208JCNjcE5H</td>\n",
       "      <td>Los Estramboticos</td>\n",
       "      <td>La Herida</td>\n",
       "      <td>Fue esta soledad y no el destino\\r\\nQuien nos ...</td>\n",
       "      <td>es</td>\n",
       "      <td>{'danceability': 0.751, 'energy': 0.806, 'key'...</td>\n",
       "    </tr>\n",
       "    <tr>\n",
       "      <th>2</th>\n",
       "      <td>6hLo5Dg74PGHjSbcP6tNOr</td>\n",
       "      <td>La Castañeda</td>\n",
       "      <td>Cenit</td>\n",
       "      <td>Creí cuando dijeron que la luna se dormía cuan...</td>\n",
       "      <td>es</td>\n",
       "      <td>{'danceability': 0.629, 'energy': 0.325, 'key'...</td>\n",
       "    </tr>\n",
       "    <tr>\n",
       "      <th>3</th>\n",
       "      <td>284Ztj2XGMvoWKILVJGasd</td>\n",
       "      <td>Maskatesta</td>\n",
       "      <td>Tu Que Pediras</td>\n",
       "      <td>Tee diiree una vez mass, lo quee pido por tii\\...</td>\n",
       "      <td>es</td>\n",
       "      <td>{'danceability': 0.623, 'energy': 0.79, 'key':...</td>\n",
       "    </tr>\n",
       "    <tr>\n",
       "      <th>4</th>\n",
       "      <td>6FLSb8CJwrcfXfzfD4ySji</td>\n",
       "      <td>DLD</td>\n",
       "      <td>Por Siempre</td>\n",
       "      <td>Hoy he vuelto a ser quien soy\\r\\nla vida me re...</td>\n",
       "      <td>es</td>\n",
       "      <td>{'danceability': 0.452, 'energy': 0.891, 'key'...</td>\n",
       "    </tr>\n",
       "  </tbody>\n",
       "</table>\n",
       "</div>"
      ],
      "text/plain": [
       "                  song_id               artist                title  \\\n",
       "0  2bVisOYbfWI29XxWEdTKSX  Grupo Polo Montañes  Un Sueño Y Nada Mas   \n",
       "1  0vQfzyjQFHQ208JCNjcE5H    Los Estramboticos            La Herida   \n",
       "2  6hLo5Dg74PGHjSbcP6tNOr         La Castañeda                Cenit   \n",
       "3  284Ztj2XGMvoWKILVJGasd           Maskatesta       Tu Que Pediras   \n",
       "4  6FLSb8CJwrcfXfzfD4ySji                  DLD          Por Siempre   \n",
       "\n",
       "                                              lyrics lang  \\\n",
       "0  A veces tengo ganas de volver a verte\\r\\nY sé ...   es   \n",
       "1  Fue esta soledad y no el destino\\r\\nQuien nos ...   es   \n",
       "2  Creí cuando dijeron que la luna se dormía cuan...   es   \n",
       "3  Tee diiree una vez mass, lo quee pido por tii\\...   es   \n",
       "4  Hoy he vuelto a ser quien soy\\r\\nla vida me re...   es   \n",
       "\n",
       "                                      audio_features  \n",
       "0  {'danceability': 0.607, 'energy': 0.542, 'key'...  \n",
       "1  {'danceability': 0.751, 'energy': 0.806, 'key'...  \n",
       "2  {'danceability': 0.629, 'energy': 0.325, 'key'...  \n",
       "3  {'danceability': 0.623, 'energy': 0.79, 'key':...  \n",
       "4  {'danceability': 0.452, 'energy': 0.891, 'key'...  "
      ]
     },
     "execution_count": 34,
     "metadata": {},
     "output_type": "execute_result"
    }
   ],
   "source": [
    "song_info = song_info[song_info['lang'] != 'en']\n",
    "print(len(song_info))\n",
    "song_info.head()"
   ]
  },
  {
   "cell_type": "code",
   "execution_count": null,
   "metadata": {},
   "outputs": [
    {
     "data": {
      "application/vnd.jupyter.widget-view+json": {
       "model_id": "31ccd19914114868b511603253bee4f5",
       "version_major": 2,
       "version_minor": 0
      },
      "text/plain": [
       "HBox(children=(IntProgress(value=0, max=26670), HTML(value='')))"
      ]
     },
     "metadata": {},
     "output_type": "display_data"
    },
    {
     "name": "stdout",
     "output_type": "stream",
     "text": [
      "0 2bVisOYbfWI29XxWEdTKSX\n",
      "1 0vQfzyjQFHQ208JCNjcE5H\n",
      "2 6hLo5Dg74PGHjSbcP6tNOr\n",
      "3 284Ztj2XGMvoWKILVJGasd\n",
      "4 6FLSb8CJwrcfXfzfD4ySji\n",
      "5 0mGNPivC5BpTowR3NF45bD\n",
      "6 4Jr2cHZaIe1rmdVlc5efIy\n"
     ]
    }
   ],
   "source": [
    "pbar = tqdm_notebook(total=len(song_info))\n",
    "gs = goslate.Goslate(service_urls=['http://translate.google.de'])\n",
    "with open(\"../data/lyrics/translated.txt\", \"a\") as file:\n",
    "    file.write('song_id,en_lyrics\\n')\n",
    "    for i, row in song_info.iterrows():\n",
    "        if i % 5 == 0:\n",
    "            time.sleep(3)\n",
    "        try:\n",
    "            translation = gs.translate(row['lyrics'], 'en')\n",
    "        except:\n",
    "            print(i, row['song_id'])\n",
    "            translation = ''\n",
    "        file.write(row['song_id'] + \",\\\"\" + translation.replace('\"', '') + '\\\"\\n')\n",
    "        pbar.update(1)\n",
    "file.close()\n",
    "pbar.close()"
   ]
  },
  {
   "cell_type": "code",
   "execution_count": null,
   "metadata": {},
   "outputs": [],
   "source": [
    "song_info['en_lyrics'] = ''\n",
    "en_lyrics_idx = song_info.columns.get_loc('en_lyrics')"
   ]
  },
  {
   "cell_type": "code",
   "execution_count": null,
   "metadata": {},
   "outputs": [],
   "source": [
    "test = pd.read_csv('../data/lyrics/translated.txt')\n",
    "test"
   ]
  },
  {
   "cell_type": "code",
   "execution_count": null,
   "metadata": {},
   "outputs": [],
   "source": [
    "song_info.iloc[83]['lyrics']"
   ]
  },
  {
   "cell_type": "code",
   "execution_count": null,
   "metadata": {},
   "outputs": [],
   "source": [
    "pbar = tqdm_notebook(total=len(song_info))\n",
    "\n",
    "with open(\"../data/lyrics/translated.txt\", \"a\") as file:\n",
    "    file.write('song_id,en_lyrics\\n')\n",
    "    for i, row in song_info[666:].iterrows():\n",
    "        if i % 5 == 0:\n",
    "            time.sleep(3)\n",
    "        try:\n",
    "            translation = translator.translate(row['lyrics'], src=row['lang'], dest='en').text.replace('\"', '')\n",
    "        except:\n",
    "            print(i, row)\n",
    "            translation = ''\n",
    "        file.write(row['song_id'] + \",\\\"\" + translation + '\\\"\\n')\n",
    "        pbar.update(1)\n",
    "    file.close()\n",
    "pbar.close()"
   ]
  },
  {
   "cell_type": "code",
   "execution_count": null,
   "metadata": {},
   "outputs": [],
   "source": [
    "i = 0\n",
    "chunk = 50\n",
    "pbar = tqdm_notebook(total=len(song_info))\n",
    "\n",
    "while i < len(song_info):\n",
    "    time.sleep(2)\n",
    "    translator = Translator()\n",
    "    if (len(song_info) - i) < 50:\n",
    "        chunk = len(song_info) - i + 1\n",
    "    translations = translator.translate(list(song_info.iloc[i:i + chunk]['lyrics']), dest='en')\n",
    "    trans_list = []\n",
    "    idx = i\n",
    "    for translation in translations:\n",
    "        song_info.iloc[idx, en_lyrics_idx] = translation.text\n",
    "        idx += 1\n",
    "    i += 50\n",
    "    pbar.update(chunk)\n",
    "pbar.close()"
   ]
  },
  {
   "cell_type": "code",
   "execution_count": 35,
   "metadata": {},
   "outputs": [
    {
     "data": {
      "text/plain": [
       "'Hello'"
      ]
     },
     "execution_count": 35,
     "metadata": {},
     "output_type": "execute_result"
    }
   ],
   "source": [
    "translator = Translator(proxies={'http':'180.253.110.235:8080'})\n",
    "translator.translate('hola', dest='en').text\n",
    "\n",
    "# i = np.random.randint(0, len(song_info))\n",
    "# print(song_info.iloc[i]['lang'])\n",
    "# translator.translate(song_info.iloc[i]['lyrics'], src=song_info.iloc[i]['lang'], dest='en').text"
   ]
  },
  {
   "cell_type": "code",
   "execution_count": null,
   "metadata": {},
   "outputs": [],
   "source": [
    "lyrics_slice = list(song_info.iloc[:50]['lyrics'])"
   ]
  },
  {
   "cell_type": "code",
   "execution_count": null,
   "metadata": {},
   "outputs": [],
   "source": [
    "translations = translator.translate(lyrics_slice, dest='en')\n",
    "trans_list = []\n",
    "for translation in translations:\n",
    "    trans_list.append(translation.text)\n",
    "    \n",
    "trans_list"
   ]
  },
  {
   "cell_type": "code",
   "execution_count": null,
   "metadata": {},
   "outputs": [],
   "source": [
    "print(len(lyrics_slice), len(trans_list))"
   ]
  },
  {
   "cell_type": "code",
   "execution_count": null,
   "metadata": {},
   "outputs": [],
   "source": [
    "song_info"
   ]
  },
  {
   "cell_type": "code",
   "execution_count": 19,
   "metadata": {},
   "outputs": [],
   "source": [
    "import urllib.request\n",
    "import goslate"
   ]
  },
  {
   "cell_type": "code",
   "execution_count": 25,
   "metadata": {},
   "outputs": [],
   "source": [
    "proxy_handler = urllib.request.ProxyHandler({\"http\" : \"http://206.189.163.84:80\"})\n",
    "proxy_opener = urllib.request.build_opener(urllib.request.HTTPHandler(proxy_handler),\n",
    "                                           urllib.request.HTTPHandler(proxy_handler))"
   ]
  },
  {
   "cell_type": "code",
   "execution_count": null,
   "metadata": {},
   "outputs": [],
   "source": [
    "gs = goslate.Goslate(opener=proxy_opener)\n",
    "\n",
    "i = np.random.randint(0, len(song_info))\n",
    "translation = gs.translate('hello world', 'en')"
   ]
  },
  {
   "cell_type": "code",
   "execution_count": null,
   "metadata": {},
   "outputs": [],
   "source": [
    "print(translation)"
   ]
  },
  {
   "cell_type": "code",
   "execution_count": null,
   "metadata": {},
   "outputs": [],
   "source": []
  }
 ],
 "metadata": {
  "kernelspec": {
   "display_name": "Python 3",
   "language": "python",
   "name": "python3"
  },
  "language_info": {
   "codemirror_mode": {
    "name": "ipython",
    "version": 3
   },
   "file_extension": ".py",
   "mimetype": "text/x-python",
   "name": "python",
   "nbconvert_exporter": "python",
   "pygments_lexer": "ipython3",
   "version": "3.7.2"
  }
 },
 "nbformat": 4,
 "nbformat_minor": 2
}
